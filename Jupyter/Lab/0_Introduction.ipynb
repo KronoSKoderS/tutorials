{
 "cells": [
  {
   "cell_type": "markdown",
   "metadata": {},
   "source": [
    "# Introduction - What is Jupyter Notebook?\n",
    "\n",
    "Jupyter Notebooks are living documents used to capture and share information.  These documents are \n",
    "built using the Python (or R) language for processing and displaying the data.  Popular libraries\n",
    "can be used natively within these notebooks including:\n",
    "\n",
    "* matplotlib\n",
    "* bokeh\n",
    "* Numpy\n",
    "* Scipy\n",
    "* Pandas"
   ]
  },
  {
   "cell_type": "markdown",
   "metadata": {},
   "source": [
    "## Interesting Examples:\n",
    "\n",
    "http://nbviewer.jupyter.org/github/pjpmarques/Julia-Modeling-the-World/blob/master/Three-Body%20Problem.ipynb\n",
    "\n"
   ]
  },
  {
   "cell_type": "code",
   "execution_count": null,
   "metadata": {},
   "outputs": [],
   "source": []
  }
 ],
 "metadata": {
  "kernelspec": {
   "display_name": "Python 3",
   "language": "python",
   "name": "python3"
  },
  "language_info": {
   "codemirror_mode": {
    "name": "ipython",
    "version": 3
   },
   "file_extension": ".py",
   "mimetype": "text/x-python",
   "name": "python",
   "nbconvert_exporter": "python",
   "pygments_lexer": "ipython3",
   "version": "3.6.3"
  }
 },
 "nbformat": 4,
 "nbformat_minor": 2
}
