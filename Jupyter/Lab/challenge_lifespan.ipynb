{
 "cells": [
  {
   "cell_type": "markdown",
   "metadata": {},
   "source": [
    "# Lifespan\n",
    "\n",
    "Given the file `Macintosh_timeline.csv` which lists the Macintosh releases and decommisions do the following:\n",
    "\n",
    "* Find the average lifespan of a Mac in days\n",
    "* Plot a bar graph showing the total number of Mac devices associated with each family\n",
    "* Which Mac device lasted the longest?  The Least?\n",
    "* Create a bar graph showing the average lifespan of each family of Mac Products"
   ]
  },
  {
   "cell_type": "code",
   "execution_count": null,
   "metadata": {},
   "outputs": [],
   "source": []
  }
 ],
 "metadata": {
  "kernelspec": {
   "display_name": "Python 3",
   "language": "python",
   "name": "python3"
  },
  "language_info": {
   "codemirror_mode": {
    "name": "ipython",
    "version": 3
   },
   "file_extension": ".py",
   "mimetype": "text/x-python",
   "name": "python",
   "nbconvert_exporter": "python",
   "pygments_lexer": "ipython3",
   "version": "3.6.4"
  }
 },
 "nbformat": 4,
 "nbformat_minor": 2
}
