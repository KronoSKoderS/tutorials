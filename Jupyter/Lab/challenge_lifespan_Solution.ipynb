{
 "cells": [
  {
   "cell_type": "markdown",
   "metadata": {},
   "source": [
    "# Lifespan\n",
    "\n",
    "Given the file `Macintosh_timeline.csv` which lists the Macintosh releases and decommisions, find the average lifespan of a Mac in days. Round to the nearest whole number."
   ]
  },
  {
   "cell_type": "code",
   "execution_count": 1,
   "metadata": {},
   "outputs": [],
   "source": [
    "%matplotlib inline\n",
    "import pandas as pd\n",
    "import matplotlib.pyplot as plt\n",
    "\n",
    "mac_timeline_data = pd.read_csv(\"Macintosh_timeline.csv\")"
   ]
  },
  {
   "cell_type": "code",
   "execution_count": 2,
   "metadata": {},
   "outputs": [
    {
     "data": {
      "text/html": [
       "<div>\n",
       "<style scoped>\n",
       "    .dataframe tbody tr th:only-of-type {\n",
       "        vertical-align: middle;\n",
       "    }\n",
       "\n",
       "    .dataframe tbody tr th {\n",
       "        vertical-align: top;\n",
       "    }\n",
       "\n",
       "    .dataframe thead th {\n",
       "        text-align: right;\n",
       "    }\n",
       "</style>\n",
       "<table border=\"1\" class=\"dataframe\">\n",
       "  <thead>\n",
       "    <tr style=\"text-align: right;\">\n",
       "      <th></th>\n",
       "      <th>Year</th>\n",
       "      <th>Launched</th>\n",
       "      <th>Model</th>\n",
       "      <th>Family</th>\n",
       "      <th>Discontinued</th>\n",
       "    </tr>\n",
       "  </thead>\n",
       "  <tbody>\n",
       "    <tr>\n",
       "      <th>0</th>\n",
       "      <td>1984</td>\n",
       "      <td>24-Jan</td>\n",
       "      <td>Macintosh 128K</td>\n",
       "      <td>Compact</td>\n",
       "      <td>9/10/1984</td>\n",
       "    </tr>\n",
       "    <tr>\n",
       "      <th>1</th>\n",
       "      <td>1984</td>\n",
       "      <td>10-Sep</td>\n",
       "      <td>Macintosh 512K</td>\n",
       "      <td>Compact</td>\n",
       "      <td>4/14/1986</td>\n",
       "    </tr>\n",
       "    <tr>\n",
       "      <th>2</th>\n",
       "      <td>1984</td>\n",
       "      <td>10-Sep</td>\n",
       "      <td>Macintosh 128K (revised)</td>\n",
       "      <td>Compact</td>\n",
       "      <td>10/1/1985</td>\n",
       "    </tr>\n",
       "    <tr>\n",
       "      <th>3</th>\n",
       "      <td>1985</td>\n",
       "      <td>1-Jan</td>\n",
       "      <td>Macintosh XL</td>\n",
       "      <td>Compact</td>\n",
       "      <td>4/1/1985</td>\n",
       "    </tr>\n",
       "    <tr>\n",
       "      <th>4</th>\n",
       "      <td>1986</td>\n",
       "      <td>16-Jan</td>\n",
       "      <td>Macintosh Plus</td>\n",
       "      <td>Compact</td>\n",
       "      <td>1/1/1987</td>\n",
       "    </tr>\n",
       "  </tbody>\n",
       "</table>\n",
       "</div>"
      ],
      "text/plain": [
       "   Year Launched                     Model   Family Discontinued\n",
       "0  1984   24-Jan            Macintosh 128K  Compact    9/10/1984\n",
       "1  1984   10-Sep            Macintosh 512K  Compact    4/14/1986\n",
       "2  1984   10-Sep  Macintosh 128K (revised)  Compact    10/1/1985\n",
       "3  1985    1-Jan              Macintosh XL  Compact     4/1/1985\n",
       "4  1986   16-Jan            Macintosh Plus  Compact     1/1/1987"
      ]
     },
     "execution_count": 2,
     "metadata": {},
     "output_type": "execute_result"
    }
   ],
   "source": [
    "mac_timeline_data.head()"
   ]
  },
  {
   "cell_type": "code",
   "execution_count": 3,
   "metadata": {},
   "outputs": [
    {
     "data": {
      "text/plain": [
       "MacBook               28\n",
       "Power Macintosh       27\n",
       "iMac                  19\n",
       "PowerBook             16\n",
       "Compact               14\n",
       "Workgroup Server      10\n",
       "Quadra                 9\n",
       "LC                     8\n",
       "Xserve                 8\n",
       "Mac II                 8\n",
       "Mac mini               7\n",
       "PowerBook Duo          7\n",
       "MacBook Pro            6\n",
       "Mac Pro                6\n",
       "Performa               5\n",
       "iBook                  5\n",
       "Macintosh Server       5\n",
       "PowerBook G3           4\n",
       "PowerBook G4           4\n",
       "PowerBook 500          3\n",
       "Network Server         3\n",
       "MacBook Air            2\n",
       "Centris                2\n",
       "Portable               2\n",
       "Mac Mini               2\n",
       "eMac                   1\n",
       "MacBook (Mid 2007)     1\n",
       "Centris / Quadra       1\n",
       "Macbook                1\n",
       "Name: Family, dtype: int64"
      ]
     },
     "execution_count": 3,
     "metadata": {},
     "output_type": "execute_result"
    }
   ],
   "source": [
    "families = mac_timeline_data['Family']\n",
    "families.value_counts()"
   ]
  },
  {
   "cell_type": "code",
   "execution_count": 4,
   "metadata": {},
   "outputs": [
    {
     "data": {
      "image/png": "[encoded data removed]",
      "text/plain": [
       "<matplotlib.figure.Figure at 0x9671390>"
      ]
     },
     "metadata": {},
     "output_type": "display_data"
    }
   ],
   "source": [
    "plt.bar(families.value_counts().index, families.value_counts().values)\n",
    "plt.show()"
   ]
  },
  {
   "cell_type": "code",
   "execution_count": 5,
   "metadata": {},
   "outputs": [],
   "source": [
    "import datetime as dt\n",
    "\n",
    "def combine_date(day_month, year):\n",
    "    month_conv = {\n",
    "        \"Jan\": 1,\n",
    "        \"Feb\": 2,\n",
    "        \"Mar\": 3,\n",
    "        \"Apr\": 4,\n",
    "        \"May\": 5,\n",
    "        \"Jun\": 6,\n",
    "        \"Jul\": 7,\n",
    "        \"Aug\": 8,\n",
    "        \"Sep\": 9,\n",
    "        \"Oct\": 10,\n",
    "        \"Nov\": 11,\n",
    "        \"Dec\": 12\n",
    "    }\n",
    "    day, month = day_month.split(\"-\")\n",
    "    day = int(day)\n",
    "    month = month_conv[month]\n",
    "    return dt.date(year, month, day)"
   ]
  },
  {
   "cell_type": "code",
   "execution_count": 6,
   "metadata": {},
   "outputs": [
    {
     "data": {
      "text/plain": [
       "0    1984-01-24\n",
       "1    1984-09-10\n",
       "2    1984-09-10\n",
       "3    1985-01-01\n",
       "4    1986-01-16\n",
       "dtype: object"
      ]
     },
     "execution_count": 6,
     "metadata": {},
     "output_type": "execute_result"
    }
   ],
   "source": [
    "date_launched = mac_timeline_data[['Launched', 'Year']].apply(lambda x: combine_date(*x), axis=1)\n",
    "date_launched.head()"
   ]
  },
  {
   "cell_type": "code",
   "execution_count": 7,
   "metadata": {},
   "outputs": [
    {
     "data": {
      "text/plain": [
       "0    9/10/1984\n",
       "1    4/14/1986\n",
       "2    10/1/1985\n",
       "3     4/1/1985\n",
       "4     1/1/1987\n",
       "Name: Discontinued, dtype: object"
      ]
     },
     "execution_count": 7,
     "metadata": {},
     "output_type": "execute_result"
    }
   ],
   "source": [
    "mac_timeline_data['Discontinued'].head()"
   ]
  },
  {
   "cell_type": "code",
   "execution_count": 8,
   "metadata": {},
   "outputs": [
    {
     "data": {
      "text/plain": [
       "0    1984-09-10\n",
       "1    1986-04-14\n",
       "2    1985-10-01\n",
       "3    1985-04-01\n",
       "4    1987-01-01\n",
       "Name: Discontinued, dtype: object"
      ]
     },
     "execution_count": 8,
     "metadata": {},
     "output_type": "execute_result"
    }
   ],
   "source": [
    "import time\n",
    "\n",
    "def convert_to_datetime(d_str):\n",
    "    if d_str == 'current':\n",
    "        return None\n",
    "    \n",
    "    t_struct = time.strptime(d_str, \"%m/%d/%Y\")\n",
    "    t_struct_str = time.mktime(t_struct)\n",
    "    return dt.date.fromtimestamp(t_struct_str)\n",
    "    \n",
    "date_discontinued = mac_timeline_data['Discontinued'].apply(convert_to_datetime)\n",
    "date_discontinued.head()"
   ]
  },
  {
   "cell_type": "code",
   "execution_count": 9,
   "metadata": {},
   "outputs": [
    {
     "data": {
      "text/plain": [
       "209          None\n",
       "210    2013-10-22\n",
       "211          None\n",
       "212          None\n",
       "213          None\n",
       "Name: Discontinued, dtype: object"
      ]
     },
     "execution_count": 9,
     "metadata": {},
     "output_type": "execute_result"
    }
   ],
   "source": [
    "date_discontinued.tail()"
   ]
  },
  {
   "cell_type": "code",
   "execution_count": 11,
   "metadata": {},
   "outputs": [
    {
     "data": {
      "text/plain": [
       "0   230 days\n",
       "1   581 days\n",
       "2   386 days\n",
       "3    90 days\n",
       "4   350 days\n",
       "Name: delta, dtype: timedelta64[ns]"
      ]
     },
     "execution_count": 11,
     "metadata": {},
     "output_type": "execute_result"
    }
   ],
   "source": [
    "mac_timeline_data['delta'] = date_discontinued - date_launched\n",
    "mac_timeline_data['delta'].head()"
   ]
  },
  {
   "cell_type": "code",
   "execution_count": 12,
   "metadata": {},
   "outputs": [
    {
     "data": {
      "text/plain": [
       "209        NaT\n",
       "210   251 days\n",
       "211        NaT\n",
       "212        NaT\n",
       "213        NaT\n",
       "Name: delta, dtype: timedelta64[ns]"
      ]
     },
     "execution_count": 12,
     "metadata": {},
     "output_type": "execute_result"
    }
   ],
   "source": [
    "mac_timeline_data['delta'].tail()"
   ]
  },
  {
   "cell_type": "code",
   "execution_count": 24,
   "metadata": {},
   "outputs": [
    {
     "data": {
      "text/plain": [
       "462.79227053140096"
      ]
     },
     "execution_count": 24,
     "metadata": {},
     "output_type": "execute_result"
    }
   ],
   "source": [
    "filtered_deltas = [t.days for t in mac_timeline_data['delta'] if t is not pd.NaT]\n",
    "avg_lifespan = sum(filtered_deltas) / len(filtered_deltas)\n",
    "avg_lifespan"
   ]
  }
 ],
 "metadata": {
  "kernelspec": {
   "display_name": "Python 3",
   "language": "python",
   "name": "python3"
  },
  "language_info": {
   "codemirror_mode": {
    "name": "ipython",
    "version": 3
   },
   "file_extension": ".py",
   "mimetype": "text/x-python",
   "name": "python",
   "nbconvert_exporter": "python",
   "pygments_lexer": "ipython3",
   "version": "3.6.4"
  }
 },
 "nbformat": 4,
 "nbformat_minor": 2
}
