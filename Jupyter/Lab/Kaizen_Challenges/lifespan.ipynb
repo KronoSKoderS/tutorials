{
 "cells": [
  {
   "cell_type": "markdown",
   "metadata": {},
   "source": [
    "# Lifespan\n",
    "\n",
    "Given the file `Macintosh_timeline.csv` which lists the Macintosh releases and decommisions do the following:\n",
    "\n",
    "* Find the average lifespan of a Mac in days\n",
    "* Plot a bar graph showing the total number of Mac devices associated with each family\n",
    "* Which Mac device lasted the longest?  The Least?\n",
    "* Create a bar graph showing the average lifespan of each family of Mac Products"
   ]
  },
  {
   "cell_type": "markdown",
   "metadata": {},
   "source": [
    "# Setup\n",
    "There's a few things to be done to setup the Notebook including imporing `pandas` and `matplotlib` and setting up the notebook to output plotting figures from `matplotlib` within the notebook."
   ]
  },
  {
   "cell_type": "code",
   "execution_count": 2,
   "metadata": {},
   "outputs": [
    {
     "name": "stdout",
     "output_type": "stream",
     "text": [
      "Populating the interactive namespace from numpy and matplotlib\n"
     ]
    }
   ],
   "source": [
    "%pylab inline\n",
    "\n",
    "import pandas as pd"
   ]
  },
  {
   "cell_type": "markdown",
   "metadata": {},
   "source": [
    "# Working with .csv files for data analysis\n",
    "\n",
    "When working with csv files for data analysis there are multiple options out there.  The built-in `csv` module for Python is a great start for parsing all things comma (or other character) seperated files.  However, to make our lives even easier we're going to use `pandas` and import the .csv directly:"
   ]
  },
  {
   "cell_type": "code",
   "execution_count": 3,
   "metadata": {},
   "outputs": [
    {
     "data": {
      "text/html": [
       "<div>\n",
       "<style scoped>\n",
       "    .dataframe tbody tr th:only-of-type {\n",
       "        vertical-align: middle;\n",
       "    }\n",
       "\n",
       "    .dataframe tbody tr th {\n",
       "        vertical-align: top;\n",
       "    }\n",
       "\n",
       "    .dataframe thead th {\n",
       "        text-align: right;\n",
       "    }\n",
       "</style>\n",
       "<table border=\"1\" class=\"dataframe\">\n",
       "  <thead>\n",
       "    <tr style=\"text-align: right;\">\n",
       "      <th></th>\n",
       "      <th>Year</th>\n",
       "      <th>Launched</th>\n",
       "      <th>Model</th>\n",
       "      <th>Family</th>\n",
       "      <th>Discontinued</th>\n",
       "    </tr>\n",
       "  </thead>\n",
       "  <tbody>\n",
       "    <tr>\n",
       "      <th>0</th>\n",
       "      <td>1984</td>\n",
       "      <td>24-Jan</td>\n",
       "      <td>Macintosh 128K</td>\n",
       "      <td>Compact</td>\n",
       "      <td>9/10/1984</td>\n",
       "    </tr>\n",
       "    <tr>\n",
       "      <th>1</th>\n",
       "      <td>1984</td>\n",
       "      <td>10-Sep</td>\n",
       "      <td>Macintosh 512K</td>\n",
       "      <td>Compact</td>\n",
       "      <td>4/14/1986</td>\n",
       "    </tr>\n",
       "    <tr>\n",
       "      <th>2</th>\n",
       "      <td>1984</td>\n",
       "      <td>10-Sep</td>\n",
       "      <td>Macintosh 128K (revised)</td>\n",
       "      <td>Compact</td>\n",
       "      <td>10/1/1985</td>\n",
       "    </tr>\n",
       "    <tr>\n",
       "      <th>3</th>\n",
       "      <td>1985</td>\n",
       "      <td>1-Jan</td>\n",
       "      <td>Macintosh XL</td>\n",
       "      <td>Compact</td>\n",
       "      <td>4/1/1985</td>\n",
       "    </tr>\n",
       "    <tr>\n",
       "      <th>4</th>\n",
       "      <td>1986</td>\n",
       "      <td>16-Jan</td>\n",
       "      <td>Macintosh Plus</td>\n",
       "      <td>Compact</td>\n",
       "      <td>1/1/1987</td>\n",
       "    </tr>\n",
       "  </tbody>\n",
       "</table>\n",
       "</div>"
      ],
      "text/plain": [
       "   Year Launched                     Model   Family Discontinued\n",
       "0  1984   24-Jan            Macintosh 128K  Compact    9/10/1984\n",
       "1  1984   10-Sep            Macintosh 512K  Compact    4/14/1986\n",
       "2  1984   10-Sep  Macintosh 128K (revised)  Compact    10/1/1985\n",
       "3  1985    1-Jan              Macintosh XL  Compact     4/1/1985\n",
       "4  1986   16-Jan            Macintosh Plus  Compact     1/1/1987"
      ]
     },
     "execution_count": 3,
     "metadata": {},
     "output_type": "execute_result"
    }
   ],
   "source": [
    "mac_timeline_data = pd.read_csv(\"Macintosh_timeline.csv\")\n",
    "mac_timeline_data.head()"
   ]
  },
  {
   "cell_type": "raw",
   "metadata": {},
   "source": [
    "Here you can see the `head` of the pandas DataFrame, which neatly prints out to the Notebook.  Columns are easily accessible similar to how you would access entries within a dictionary: `mac_timeline_data['<column_name>'].  "
   ]
  },
  {
   "cell_type": "markdown",
   "metadata": {},
   "source": [
    "# Bar Graph Solution\n",
    "\n",
    "Before plotting anything, we need to be able to isolate our data.  Within `pandas` we can select the `Family` column like so:"
   ]
  },
  {
   "cell_type": "code",
   "execution_count": 4,
   "metadata": {},
   "outputs": [
    {
     "data": {
      "text/plain": [
       "0    Compact\n",
       "1    Compact\n",
       "2    Compact\n",
       "3    Compact\n",
       "4    Compact\n",
       "Name: Family, dtype: object"
      ]
     },
     "execution_count": 4,
     "metadata": {},
     "output_type": "execute_result"
    }
   ],
   "source": [
    "families = mac_timeline_data['Family']\n",
    "families.head()"
   ]
  },
  {
   "cell_type": "markdown",
   "metadata": {},
   "source": [
    "Futhermore, `pandas` has a built-in function for Data Series to determine the count of the values within that series:"
   ]
  },
  {
   "cell_type": "code",
   "execution_count": 5,
   "metadata": {},
   "outputs": [
    {
     "data": {
      "text/plain": [
       "MacBook               28\n",
       "Power Macintosh       27\n",
       "iMac                  19\n",
       "PowerBook             16\n",
       "Compact               14\n",
       "Workgroup Server      10\n",
       "Quadra                 9\n",
       "Mac II                 8\n",
       "Xserve                 8\n",
       "LC                     8\n",
       "PowerBook Duo          7\n",
       "Mac mini               7\n",
       "MacBook Pro            6\n",
       "Mac Pro                6\n",
       "Macintosh Server       5\n",
       "iBook                  5\n",
       "Performa               5\n",
       "PowerBook G4           4\n",
       "PowerBook G3           4\n",
       "Network Server         3\n",
       "PowerBook 500          3\n",
       "Mac Mini               2\n",
       "MacBook Air            2\n",
       "Centris                2\n",
       "Portable               2\n",
       "Centris / Quadra       1\n",
       "eMac                   1\n",
       "Macbook                1\n",
       "MacBook (Mid 2007)     1\n",
       "Name: Family, dtype: int64"
      ]
     },
     "execution_count": 5,
     "metadata": {},
     "output_type": "execute_result"
    }
   ],
   "source": [
    "families.value_counts()"
   ]
  },
  {
   "cell_type": "markdown",
   "metadata": {},
   "source": [
    "Now that we've isolated the data, let's plot using `matplotlib`'s bar graph:"
   ]
  },
  {
   "cell_type": "code",
   "execution_count": 6,
   "metadata": {},
   "outputs": [
    {
     "data": {
      "image/png": "[encoded data removed]",
      "text/plain": [
       "<matplotlib.figure.Figure at 0x7f7ff1044c88>"
      ]
     },
     "metadata": {},
     "output_type": "display_data"
    }
   ],
   "source": [
    "plt.rcParams['figure.figsize'] = (20, 12)\n",
    "plt.barh(families.value_counts().index, families.value_counts().values)\n",
    "plt.xlabel(\"Num Products per Family\")\n",
    "plt.show()"
   ]
  },
  {
   "cell_type": "markdown",
   "metadata": {},
   "source": [
    "# Average lifespan of a Mac product\n",
    "\n",
    "Determining the lifespan of a Mac product will require a small calculation:\n",
    "\n",
    "$$\n",
    "\\frac{\\sum_{i=0}^{n} discontinuedDate_i - launchedDate_i}{totalNumDevices} \\forall discontinuedDate, launchedDate \\in csvFile\n",
    "$$\n",
    "\n",
    "Looking at the data frame, there are a few challenges we're going to need to work out:\n",
    "    * combining the columns \"Year\" and \"Launched\" into a single date for analysis\n",
    "    * determining how to subtract the \"Discontinued\" and combined \"Year\" and \"Launched\" columns to determine a delta in dates\n",
    "    * how do we handle non-date values (e.g. `current`)?\n",
    "   "
   ]
  },
  {
   "cell_type": "code",
   "execution_count": 7,
   "metadata": {},
   "outputs": [
    {
     "data": {
      "text/html": [
       "<div>\n",
       "<style scoped>\n",
       "    .dataframe tbody tr th:only-of-type {\n",
       "        vertical-align: middle;\n",
       "    }\n",
       "\n",
       "    .dataframe tbody tr th {\n",
       "        vertical-align: top;\n",
       "    }\n",
       "\n",
       "    .dataframe thead th {\n",
       "        text-align: right;\n",
       "    }\n",
       "</style>\n",
       "<table border=\"1\" class=\"dataframe\">\n",
       "  <thead>\n",
       "    <tr style=\"text-align: right;\">\n",
       "      <th></th>\n",
       "      <th>Year</th>\n",
       "      <th>Launched</th>\n",
       "      <th>Model</th>\n",
       "      <th>Family</th>\n",
       "      <th>Discontinued</th>\n",
       "    </tr>\n",
       "  </thead>\n",
       "  <tbody>\n",
       "    <tr>\n",
       "      <th>209</th>\n",
       "      <td>2012</td>\n",
       "      <td>23-Oct</td>\n",
       "      <td>Mac mini (Late 2012)</td>\n",
       "      <td>Mac mini</td>\n",
       "      <td>current</td>\n",
       "    </tr>\n",
       "    <tr>\n",
       "      <th>210</th>\n",
       "      <td>2013</td>\n",
       "      <td>13-Feb</td>\n",
       "      <td>MacBook Pro with Retina display (Early 2013)</td>\n",
       "      <td>MacBook Pro</td>\n",
       "      <td>10/22/2013</td>\n",
       "    </tr>\n",
       "    <tr>\n",
       "      <th>211</th>\n",
       "      <td>2013</td>\n",
       "      <td>10-Jun</td>\n",
       "      <td>MacBook Air (Mid 2013)</td>\n",
       "      <td>MacBook Air</td>\n",
       "      <td>current</td>\n",
       "    </tr>\n",
       "    <tr>\n",
       "      <th>212</th>\n",
       "      <td>2013</td>\n",
       "      <td>22-Oct</td>\n",
       "      <td>MacBook Pro with Retina display (Late 2013)</td>\n",
       "      <td>MacBook Pro</td>\n",
       "      <td>current</td>\n",
       "    </tr>\n",
       "    <tr>\n",
       "      <th>213</th>\n",
       "      <td>2013</td>\n",
       "      <td>19-Dec</td>\n",
       "      <td>Mac Pro (Late 2013)</td>\n",
       "      <td>Mac Pro</td>\n",
       "      <td>current</td>\n",
       "    </tr>\n",
       "  </tbody>\n",
       "</table>\n",
       "</div>"
      ],
      "text/plain": [
       "     Year Launched                                         Model       Family  \\\n",
       "209  2012   23-Oct                          Mac mini (Late 2012)     Mac mini   \n",
       "210  2013   13-Feb  MacBook Pro with Retina display (Early 2013)  MacBook Pro   \n",
       "211  2013   10-Jun                        MacBook Air (Mid 2013)  MacBook Air   \n",
       "212  2013   22-Oct   MacBook Pro with Retina display (Late 2013)  MacBook Pro   \n",
       "213  2013   19-Dec                           Mac Pro (Late 2013)      Mac Pro   \n",
       "\n",
       "    Discontinued  \n",
       "209      current  \n",
       "210   10/22/2013  \n",
       "211      current  \n",
       "212      current  \n",
       "213      current  "
      ]
     },
     "execution_count": 7,
     "metadata": {},
     "output_type": "execute_result"
    }
   ],
   "source": [
    "mac_timeline_data.tail()"
   ]
  },
  {
   "cell_type": "markdown",
   "metadata": {},
   "source": [
    "Let's first combine \"Year\" and \"Launched\" into a `datetime.date` object for working.  What if we had just two strings that represented the date?  How would we combine them?  Let's create a function `combine_date` to do just that:"
   ]
  },
  {
   "cell_type": "code",
   "execution_count": 8,
   "metadata": {},
   "outputs": [],
   "source": [
    "import datetime as dt\n",
    "\n",
    "def combine_date(day_month: str, year: str) -> dt.date:\n",
    "    \"\"\"\n",
    "    This function take a string `day_month` in the format of \"<day>-<month>\" that \n",
    "    represents the day and month and another string `year` that represents the year\n",
    "    combines them into a datetime.date object.\n",
    "    \"\"\"\n",
    "    month_conv = {\n",
    "        \"Jan\": 1,\n",
    "        \"Feb\": 2,\n",
    "        \"Mar\": 3,\n",
    "        \"Apr\": 4,\n",
    "        \"May\": 5,\n",
    "        \"Jun\": 6,\n",
    "        \"Jul\": 7,\n",
    "        \"Aug\": 8,\n",
    "        \"Sep\": 9,\n",
    "        \"Oct\": 10,\n",
    "        \"Nov\": 11,\n",
    "        \"Dec\": 12\n",
    "    }\n",
    "    day, month = day_month.split(\"-\")\n",
    "    day = int(day)\n",
    "    month = month_conv[month]\n",
    "    return dt.date(year, month, day)"
   ]
  },
  {
   "cell_type": "markdown",
   "metadata": {},
   "source": [
    "`pandas` DataFrames have a neat function called `apply` which \"applies\" a function to each row in the DateFrame.  That means that we need to select just the columns \"Launched\" and \"Year\".  This is pretty easily done like so:"
   ]
  },
  {
   "cell_type": "code",
   "execution_count": 9,
   "metadata": {},
   "outputs": [
    {
     "data": {
      "text/html": [
       "<div>\n",
       "<style scoped>\n",
       "    .dataframe tbody tr th:only-of-type {\n",
       "        vertical-align: middle;\n",
       "    }\n",
       "\n",
       "    .dataframe tbody tr th {\n",
       "        vertical-align: top;\n",
       "    }\n",
       "\n",
       "    .dataframe thead th {\n",
       "        text-align: right;\n",
       "    }\n",
       "</style>\n",
       "<table border=\"1\" class=\"dataframe\">\n",
       "  <thead>\n",
       "    <tr style=\"text-align: right;\">\n",
       "      <th></th>\n",
       "      <th>Launched</th>\n",
       "      <th>Year</th>\n",
       "    </tr>\n",
       "  </thead>\n",
       "  <tbody>\n",
       "    <tr>\n",
       "      <th>0</th>\n",
       "      <td>24-Jan</td>\n",
       "      <td>1984</td>\n",
       "    </tr>\n",
       "    <tr>\n",
       "      <th>1</th>\n",
       "      <td>10-Sep</td>\n",
       "      <td>1984</td>\n",
       "    </tr>\n",
       "    <tr>\n",
       "      <th>2</th>\n",
       "      <td>10-Sep</td>\n",
       "      <td>1984</td>\n",
       "    </tr>\n",
       "    <tr>\n",
       "      <th>3</th>\n",
       "      <td>1-Jan</td>\n",
       "      <td>1985</td>\n",
       "    </tr>\n",
       "    <tr>\n",
       "      <th>4</th>\n",
       "      <td>16-Jan</td>\n",
       "      <td>1986</td>\n",
       "    </tr>\n",
       "  </tbody>\n",
       "</table>\n",
       "</div>"
      ],
      "text/plain": [
       "  Launched  Year\n",
       "0   24-Jan  1984\n",
       "1   10-Sep  1984\n",
       "2   10-Sep  1984\n",
       "3    1-Jan  1985\n",
       "4   16-Jan  1986"
      ]
     },
     "execution_count": 9,
     "metadata": {},
     "output_type": "execute_result"
    }
   ],
   "source": [
    "mac_timeline_data[['Launched', 'Year']].head()"
   ]
  },
  {
   "cell_type": "markdown",
   "metadata": {},
   "source": [
    "So now let's \"apply\" our function to those columns and save it.  Note that `*x` extracts each row's values.  For example `*x` for the first row, this is the equivalent of `combine_date('24-Jan', '1984')`."
   ]
  },
  {
   "cell_type": "code",
   "execution_count": 10,
   "metadata": {},
   "outputs": [
    {
     "data": {
      "text/plain": [
       "0    1984-01-24\n",
       "1    1984-09-10\n",
       "2    1984-09-10\n",
       "3    1985-01-01\n",
       "4    1986-01-16\n",
       "dtype: object"
      ]
     },
     "execution_count": 10,
     "metadata": {},
     "output_type": "execute_result"
    }
   ],
   "source": [
    "date_launched = mac_timeline_data[['Launched', 'Year']].apply(lambda x: combine_date(*x), axis=1)\n",
    "date_launched.head()"
   ]
  },
  {
   "cell_type": "markdown",
   "metadata": {},
   "source": [
    "Now let's look at the \"Discontinued\" column of our data:"
   ]
  },
  {
   "cell_type": "code",
   "execution_count": 11,
   "metadata": {},
   "outputs": [
    {
     "data": {
      "text/plain": [
       "0    9/10/1984\n",
       "1    4/14/1986\n",
       "2    10/1/1985\n",
       "3     4/1/1985\n",
       "4     1/1/1987\n",
       "Name: Discontinued, dtype: object"
      ]
     },
     "execution_count": 11,
     "metadata": {},
     "output_type": "execute_result"
    }
   ],
   "source": [
    "mac_timeline_data['Discontinued'].head()"
   ]
  },
  {
   "cell_type": "markdown",
   "metadata": {},
   "source": [
    "This column of data is a little different.  I'm assuming it's a column of strings (hint: it is).  We'll need to convert this to a `datetime` object as well.  Let's create a function that take a single string in the format we expect `<month>/<day>/<year>` and convert it to a `datetime` object.  Remeber those \"current\" values, make sure we handle those by just returning them as `None` objects.  Finally, let's apply that function to each row of the \"Disconintued\" column and save it in another variable `date_discontinued`.  Examine the `head` and `tail` of the variable and see how it looks."
   ]
  },
  {
   "cell_type": "code",
   "execution_count": 12,
   "metadata": {},
   "outputs": [
    {
     "data": {
      "text/plain": [
       "0    1984-09-10\n",
       "1    1986-04-14\n",
       "2    1985-10-01\n",
       "3    1985-04-01\n",
       "4    1987-01-01\n",
       "Name: Discontinued, dtype: object"
      ]
     },
     "execution_count": 12,
     "metadata": {},
     "output_type": "execute_result"
    }
   ],
   "source": [
    "import time\n",
    "\n",
    "def convert_to_datetime(d_str):\n",
    "    if d_str == 'current':\n",
    "        return None\n",
    "    \n",
    "    t_struct = time.strptime(d_str, \"%m/%d/%Y\")\n",
    "    t_struct_str = time.mktime(t_struct)\n",
    "    return dt.date.fromtimestamp(t_struct_str)\n",
    "    \n",
    "date_discontinued = mac_timeline_data['Discontinued'].apply(convert_to_datetime)\n",
    "date_discontinued.head()"
   ]
  },
  {
   "cell_type": "code",
   "execution_count": 13,
   "metadata": {},
   "outputs": [
    {
     "data": {
      "text/plain": [
       "209          None\n",
       "210    2013-10-22\n",
       "211          None\n",
       "212          None\n",
       "213          None\n",
       "Name: Discontinued, dtype: object"
      ]
     },
     "execution_count": 13,
     "metadata": {},
     "output_type": "execute_result"
    }
   ],
   "source": [
    "date_discontinued.tail()"
   ]
  },
  {
   "cell_type": "markdown",
   "metadata": {},
   "source": [
    "Now that we've got our date's launched and discontinued in a nice format, let's create a new column in our `mac_timeline_delta` variable called \"delta\" to represent the number of days between \"Launched\" and \"Discontinued\".  Examine the `head` and `tail` of this new column."
   ]
  },
  {
   "cell_type": "code",
   "execution_count": 14,
   "metadata": {},
   "outputs": [
    {
     "data": {
      "text/plain": [
       "0   230 days\n",
       "1   581 days\n",
       "2   386 days\n",
       "3    90 days\n",
       "4   350 days\n",
       "Name: delta, dtype: timedelta64[ns]"
      ]
     },
     "execution_count": 14,
     "metadata": {},
     "output_type": "execute_result"
    }
   ],
   "source": [
    "mac_timeline_data['delta'] = date_discontinued - date_launched\n",
    "mac_timeline_data['delta'].head()"
   ]
  },
  {
   "cell_type": "code",
   "execution_count": 15,
   "metadata": {},
   "outputs": [
    {
     "data": {
      "text/plain": [
       "209        NaT\n",
       "210   251 days\n",
       "211        NaT\n",
       "212        NaT\n",
       "213        NaT\n",
       "Name: delta, dtype: timedelta64[ns]"
      ]
     },
     "execution_count": 15,
     "metadata": {},
     "output_type": "execute_result"
    }
   ],
   "source": [
    "mac_timeline_data['delta'].tail()"
   ]
  },
  {
   "cell_type": "markdown",
   "metadata": {},
   "source": [
    "See the `NaT`?  That's a special Object within `pandas` to represent \"Not a Time\".  We'll need to filter out those dates since we can't calculate the average lifespan of the Mac products.  We can do this using a list comprehension.  Basically, iterate over the list and create a new one with ONLY the delta's that are actual numbers."
   ]
  },
  {
   "cell_type": "code",
   "execution_count": 16,
   "metadata": {},
   "outputs": [],
   "source": [
    "filtered_deltas = [t.days for t in mac_timeline_data['delta'] if t is not pd.NaT]"
   ]
  },
  {
   "cell_type": "markdown",
   "metadata": {},
   "source": [
    "Now it's time to calculate the Average lifespan!  Take the sum of the list, then divide it by the len of the list:"
   ]
  },
  {
   "cell_type": "code",
   "execution_count": 17,
   "metadata": {},
   "outputs": [
    {
     "data": {
      "text/plain": [
       "462.79227053140096"
      ]
     },
     "execution_count": 17,
     "metadata": {},
     "output_type": "execute_result"
    }
   ],
   "source": [
    "avg_lifespan = sum(filtered_deltas) / len(filtered_deltas)\n",
    "avg_lifespan"
   ]
  },
  {
   "cell_type": "markdown",
   "metadata": {},
   "source": [
    "# Which Mac Product Lasted the Longest?  The Least?\n",
    "How do we determine which value in a column is the max or min?  Pandas has builtin functions for that as well:"
   ]
  },
  {
   "cell_type": "code",
   "execution_count": 18,
   "metadata": {},
   "outputs": [
    {
     "data": {
      "text/plain": [
       "Timedelta('1528 days 00:00:00')"
      ]
     },
     "execution_count": 18,
     "metadata": {},
     "output_type": "execute_result"
    }
   ],
   "source": [
    "mac_timeline_data['delta'].max()"
   ]
  },
  {
   "cell_type": "markdown",
   "metadata": {},
   "source": [
    "Whoa!  That's not necessarily what we wanted... sure we needed the value of the max delta, but what product was it?  Were there multiple?  How do we find that?  \n",
    "\n",
    "This is where slicing/selecting whatever you want to call it in pandas is super powerfull.  Let's select all products that have a delta of 1528 days:"
   ]
  },
  {
   "cell_type": "code",
   "execution_count": 19,
   "metadata": {},
   "outputs": [
    {
     "data": {
      "text/html": [
       "<div>\n",
       "<style scoped>\n",
       "    .dataframe tbody tr th:only-of-type {\n",
       "        vertical-align: middle;\n",
       "    }\n",
       "\n",
       "    .dataframe tbody tr th {\n",
       "        vertical-align: top;\n",
       "    }\n",
       "\n",
       "    .dataframe thead th {\n",
       "        text-align: right;\n",
       "    }\n",
       "</style>\n",
       "<table border=\"1\" class=\"dataframe\">\n",
       "  <thead>\n",
       "    <tr style=\"text-align: right;\">\n",
       "      <th></th>\n",
       "      <th>Year</th>\n",
       "      <th>Launched</th>\n",
       "      <th>Model</th>\n",
       "      <th>Family</th>\n",
       "      <th>Discontinued</th>\n",
       "      <th>delta</th>\n",
       "    </tr>\n",
       "  </thead>\n",
       "  <tbody>\n",
       "    <tr>\n",
       "      <th>127</th>\n",
       "      <td>2002</td>\n",
       "      <td>29-Apr</td>\n",
       "      <td>eMac</td>\n",
       "      <td>eMac</td>\n",
       "      <td>7/5/2006</td>\n",
       "      <td>1528 days</td>\n",
       "    </tr>\n",
       "  </tbody>\n",
       "</table>\n",
       "</div>"
      ],
      "text/plain": [
       "     Year Launched Model Family Discontinued     delta\n",
       "127  2002   29-Apr  eMac   eMac     7/5/2006 1528 days"
      ]
     },
     "execution_count": 19,
     "metadata": {},
     "output_type": "execute_result"
    }
   ],
   "source": [
    "mac_timeline_data[mac_timeline_data.delta == mac_timeline_data['delta'].max()]"
   ]
  },
  {
   "cell_type": "markdown",
   "metadata": {},
   "source": [
    "And here's how we find the min"
   ]
  },
  {
   "cell_type": "code",
   "execution_count": 20,
   "metadata": {},
   "outputs": [
    {
     "data": {
      "text/html": [
       "<div>\n",
       "<style scoped>\n",
       "    .dataframe tbody tr th:only-of-type {\n",
       "        vertical-align: middle;\n",
       "    }\n",
       "\n",
       "    .dataframe tbody tr th {\n",
       "        vertical-align: top;\n",
       "    }\n",
       "\n",
       "    .dataframe thead th {\n",
       "        text-align: right;\n",
       "    }\n",
       "</style>\n",
       "<table border=\"1\" class=\"dataframe\">\n",
       "  <thead>\n",
       "    <tr style=\"text-align: right;\">\n",
       "      <th></th>\n",
       "      <th>Year</th>\n",
       "      <th>Launched</th>\n",
       "      <th>Model</th>\n",
       "      <th>Family</th>\n",
       "      <th>Discontinued</th>\n",
       "      <th>delta</th>\n",
       "    </tr>\n",
       "  </thead>\n",
       "  <tbody>\n",
       "    <tr>\n",
       "      <th>3</th>\n",
       "      <td>1985</td>\n",
       "      <td>1-Jan</td>\n",
       "      <td>Macintosh XL</td>\n",
       "      <td>Compact</td>\n",
       "      <td>4/1/1985</td>\n",
       "      <td>90 days</td>\n",
       "    </tr>\n",
       "  </tbody>\n",
       "</table>\n",
       "</div>"
      ],
      "text/plain": [
       "   Year Launched         Model   Family Discontinued   delta\n",
       "3  1985    1-Jan  Macintosh XL  Compact     4/1/1985 90 days"
      ]
     },
     "execution_count": 20,
     "metadata": {},
     "output_type": "execute_result"
    }
   ],
   "source": [
    "mac_timeline_data[mac_timeline_data.delta == mac_timeline_data['delta'].min()]"
   ]
  },
  {
   "cell_type": "code",
   "execution_count": null,
   "metadata": {},
   "outputs": [],
   "source": []
  },
  {
   "cell_type": "markdown",
   "metadata": {},
   "source": [
    "# Average Lifespan of the Mac Product Familes"
   ]
  },
  {
   "cell_type": "code",
   "execution_count": 21,
   "metadata": {},
   "outputs": [],
   "source": [
    "family_names = list(set(mac_timeline_data['Family']))\n",
    "\n",
    "family_lifespans = []\n",
    "for family in family_names:\n",
    "    lifespan_ds = mac_timeline_data[mac_timeline_data.Family == family]\n",
    "    lifespan_vals = [val.days for val in lifespan_ds['delta'] if val is not pd.NaT]\n",
    "    avg_lifespan = sum(lifespan_vals) / len(lifespan_vals)\n",
    "    family_lifespans.append(avg_lifespan)"
   ]
  },
  {
   "cell_type": "code",
   "execution_count": 22,
   "metadata": {},
   "outputs": [
    {
     "data": {
      "image/png": "[encoded data removed]",
      "text/plain": [
       "<matplotlib.figure.Figure at 0x7f7ff0ffa128>"
      ]
     },
     "metadata": {},
     "output_type": "display_data"
    }
   ],
   "source": [
    "plt.rcParams['figure.figsize'] = (20, 12)\n",
    "plt.barh(family_names, family_lifespans)\n",
    "plt.xlabel(\"Avg Lifespan for Each Product Family (Days)\")\n",
    "plt.show()"
   ]
  },
  {
   "cell_type": "code",
   "execution_count": null,
   "metadata": {},
   "outputs": [],
   "source": []
  }
 ],
 "metadata": {
  "kernelspec": {
   "display_name": "Python 3",
   "language": "python",
   "name": "python3"
  },
  "language_info": {
   "codemirror_mode": {
    "name": "ipython",
    "version": 3
   },
   "file_extension": ".py",
   "mimetype": "text/x-python",
   "name": "python",
   "nbconvert_exporter": "python",
   "pygments_lexer": "ipython3",
   "version": "3.6.4"
  }
 },
 "nbformat": 4,
 "nbformat_minor": 2
}
