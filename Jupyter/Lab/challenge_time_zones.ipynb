{
 "cells": [
  {
   "cell_type": "markdown",
   "metadata": {},
   "source": [
    "Open this file: usa.gov.json. Every line contains a series of keys and values. Build a histogram of the time zones and identify the time zone that shows up most frequently with a user-agent string that includes ipad (search for all variations of case in the term ipad (i.e. IPAD,iPad, etc)).\n",
    "\n",
    "The following are just a subset of the keys that are found in the list:\n",
    "```\n",
    "    a: user-agent\n",
    "    c: country\n",
    "    tz: time zone\n",
    "    t: timestamp\n",
    "    cy: city\n",
    "    ll: latitude/longitude\n",
    "```\n",
    "For example, if you counted the time zones:\n",
    "```\n",
    "    Europe/Bratislava 8\n",
    "    America/Los_Angeles 4\n",
    "    America/Chihuahua 3\n",
    "```\n",
    "\n",
    "For your answer, you would enter the number 8."
   ]
  },
  {
   "cell_type": "code",
   "execution_count": null,
   "metadata": {},
   "outputs": [],
   "source": []
  }
 ],
 "metadata": {
  "kernelspec": {
   "display_name": "Python 3",
   "language": "python",
   "name": "python3"
  },
  "language_info": {
   "codemirror_mode": {
    "name": "ipython",
    "version": 3
   },
   "file_extension": ".py",
   "mimetype": "text/x-python",
   "name": "python",
   "nbconvert_exporter": "python",
   "pygments_lexer": "ipython3",
   "version": "3.6.4"
  }
 },
 "nbformat": 4,
 "nbformat_minor": 2
}
