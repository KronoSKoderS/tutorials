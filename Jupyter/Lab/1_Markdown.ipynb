{
 "cells": [
  {
   "cell_type": "markdown",
   "metadata": {},
   "source": [
    "# Markdown Basics\n",
    "\n",
    "Jupyter Notebooks supports markdown including.  Here are a few examples:"
   ]
  },
  {
   "cell_type": "markdown",
   "metadata": {},
   "source": [
    "## Lists\n",
    "Typing in this:\n",
    "\n",
    "```markdown\n",
    "* This is a item\n",
    "* This is another item\n",
    "* This is the third and final item\n",
    "```\n",
    "Will result in this:\n",
    "\n",
    "* This is an item\n",
    "* This is another item\n",
    "* This is the third and final item"
   ]
  },
  {
   "cell_type": "markdown",
   "metadata": {},
   "source": [
    "Lists can also be numbered:\n",
    "\n",
    "```markdown\n",
    "1. This is the first\n",
    "2. This is the second\n",
    "3. This is the third and final\n",
    "```\n",
    "\n",
    "Will result in this:\n",
    "\n",
    "1. This is the first\n",
    "2. This is the second\n",
    "3. This is the third and final"
   ]
  },
  {
   "cell_type": "markdown",
   "metadata": {},
   "source": [
    "## Headings\n",
    "\n",
    "Headings are denominated by the use of the `#`.  \n",
    "\n",
    "```markdown\n",
    "# Heading\n",
    "## Subheading\n",
    "### Section\n",
    "#### Subsection\n",
    "```\n",
    "\n",
    "# Heading\n",
    "## Subheading\n",
    "### Section\n",
    "#### Subsection"
   ]
  },
  {
   "cell_type": "code",
   "execution_count": null,
   "metadata": {},
   "outputs": [],
   "source": []
  }
 ],
 "metadata": {
  "kernelspec": {
   "display_name": "Python 3",
   "language": "python",
   "name": "python3"
  },
  "language_info": {
   "codemirror_mode": {
    "name": "ipython",
    "version": 3
   },
   "file_extension": ".py",
   "mimetype": "text/x-python",
   "name": "python",
   "nbconvert_exporter": "python",
   "pygments_lexer": "ipython3",
   "version": "3.6.3"
  }
 },
 "nbformat": 4,
 "nbformat_minor": 2
}
